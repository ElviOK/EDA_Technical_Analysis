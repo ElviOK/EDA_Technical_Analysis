{
 "cells": [
  {
   "cell_type": "code",
   "execution_count": 200,
   "id": "f0e8ceb8",
   "metadata": {
    "scrolled": false
   },
   "outputs": [],
   "source": [
    "from bs4 import BeautifulSoup\n",
    "import requests\n",
    "import pandas as pd\n",
    "import datetime\n",
    "import csv\n",
    "\n",
    "# Connect to Website \n",
    "URL = 'https://finviz.com/quote.ashx?t=DB&p=d'\n",
    "\n",
    "headers = {\"User-Agent\": \"Mozilla/5.0 (Windows NT 10.0; Win64; x64) AppleWebKit/537.36 (KHTML, like Gecko) Chrome/114.0.0.0 Safari/537.36 OPR/100.0.0.0\",\"Accept-Encoding\": \"gzip, deflate, br\",\"Accept\": \"text/html,application/xhtml+xml,application/xml;q=0.9,image/avif,image/webp,image/apng,*/*;q=0.8,application/signed-exchange;v=b3;q=0.7\",\"DNT\":\"1\",\"Connection\":\"close\",\"Upgrade-Insecure-Requests\":\"1\"}\n",
    "\n",
    "# Pulling in the content\n",
    "page = requests.get(URL, headers=headers)\n",
    "\n",
    "soup = BeautifulSoup(page.content, \"html.parser\")\n",
    "\n",
    "#Pick out the table I want\n",
    "table = soup.find('table', class_='snapshot-table2')\n",
    "\n",
    "def getColumns():\n",
    "    eachColumn = []    \n",
    "#Give me all table rows back\n",
    "    if table:\n",
    "        rows = table.find_all('tr')\n",
    "        #Give me each column back\n",
    "        for row in rows:\n",
    "            columns = row.find_all('td')\n",
    "  \n",
    "            #Give me each value back, into a list, and get rid of the junk code\n",
    "            for column in columns:\n",
    "                value = column.get_text(strip=True) \n",
    "                eachColumn.append(value)  \n",
    "                #print(values)  \n",
    "        return eachColumn\n",
    "            \n",
    "    #If static table changes give me an error message back\n",
    "    else:\n",
    "        print(\"Table error\")"
   ]
  },
  {
   "cell_type": "code",
   "execution_count": 201,
   "id": "d9418728",
   "metadata": {},
   "outputs": [
    {
     "name": "stdout",
     "output_type": "stream",
     "text": [
      "['Index', '-', 'P/E', '4.39', 'EPS (ttm)', '2.51', 'Insider Own', '2.70%', 'Shs Outstand', '2.08B', 'Perf Week', '-0.81%', 'Market Cap', '22.28B', 'Forward P/E', '4.84', 'EPS next Y', '2.28', 'Insider Trans', '0.00%', 'Shs Float', '1.88B', 'Perf Month', '10.87%', 'Income', '5.32B', 'PEG', '3.18', 'EPS next Q', '0.49', 'Inst Own', '39.15%', 'Short Float / Ratio', '0.71% / 5.07', 'Perf Quarter', '7.20%', 'Sales', '38.30B', 'P/S', '0.58', 'EPS this Y', '154.10%', 'Inst Trans', '-', 'Short Interest', '13.29M', 'Perf Half Y', '-12.40%', 'Book/sh', '37.37', 'P/B', '0.29', 'EPS next Y', '15.89%', 'ROA', '0.40%', 'Target Price', '12.02', 'Perf Year', '26.23%', 'Cash/sh', '347.62', 'P/C', '0.03', 'EPS next 5Y', '1.38%', 'ROE', '6.90%', '52W Range', '7.24 - 13.57', 'Perf YTD', '-4.34%', 'Dividend', '0.32', 'P/FCF', '-', 'EPS past 5Y', '45.20%', 'ROI', '4.70%', '52W High', '-18.79%', 'Beta', '1.33', 'Dividend %', '2.93%', 'Quick Ratio', '-', 'Sales past 5Y', '0.60%', 'Gross Margin', '-', '52W Low', '52.10%', 'ATR', '0.23', 'Employees', '87055', 'Current Ratio', '-', 'Sales Q/Q', '103.20%', 'Oper. Margin', '37.00%', 'RSI (14)', '52.83', 'Volatility', '1.38% 1.47%', 'Optionable', 'Yes', 'Debt/Eq', '2.85', 'EPS Q/Q', '-26.70%', 'Profit Margin', '13.90%', 'Rel Volume', '0.60', 'Prev Close', '10.96', 'Shortable', 'Yes', 'LT Debt/Eq', '2.85', 'Earnings', '-', 'Payout', '11.70%', 'Avg Volume', '2.62M', 'Price', '11.02', 'Recom', '4.00', 'SMA20', '0.38%', 'SMA50', '3.63%', 'SMA200', '0.72%', 'Volume', '1,573,588', 'Change', '0.55%']\n",
      "\n",
      "144\n",
      "72\n"
     ]
    }
   ],
   "source": [
    "print(getColumns())\n",
    "print()\n",
    "print(len(getColumns()))\n",
    "print(72)"
   ]
  },
  {
   "cell_type": "code",
   "execution_count": 202,
   "id": "93ebd042",
   "metadata": {},
   "outputs": [
    {
     "name": "stdout",
     "output_type": "stream",
     "text": [
      "8\n",
      "20\n",
      "44\n",
      "56\n",
      "116\n",
      "128\n",
      "140\n",
      "Volume\n",
      "0.55%\n"
     ]
    }
   ],
   "source": [
    "print(getColumns().index(\"Shs Outstand\"))\n",
    "print(getColumns().index(\"Shs Float\"))\n",
    "print(getColumns().index(\"Short Interest\"))\n",
    "print(getColumns().index(\"Target Price\"))\n",
    "print(getColumns().index(\"Rel Volume\"))\n",
    "print(getColumns().index(\"Avg Volume\"))\n",
    "print(getColumns().index(\"Volume\"))\n",
    "print(getColumns()[140])\n",
    "print(getColumns()[143])"
   ]
  },
  {
   "cell_type": "code",
   "execution_count": 203,
   "id": "cd2d6b3b",
   "metadata": {},
   "outputs": [
    {
     "name": "stdout",
     "output_type": "stream",
     "text": [
      "06-08-2023, 17:53:50\n"
     ]
    }
   ],
   "source": [
    "time_stamp = datetime.datetime.now()\n",
    "today = time_stamp.strftime(\"%d-%m-%Y, %H:%M:%S\")\n",
    "\n",
    "print(today)"
   ]
  },
  {
   "cell_type": "code",
   "execution_count": 204,
   "id": "20eb3057",
   "metadata": {},
   "outputs": [
    {
     "name": "stdout",
     "output_type": "stream",
     "text": [
      "['Date', '06-08-2023, 12:51:28', 'Shs Outstand', '2.08B', 'Perf Week', '-0.81%', 'Shs Float', '1.88B', 'Short Interest', '13.29M', 'Target Price', '12.02', 'Rel Volume', '0.60', 'Prev Close', '10.96', 'Shortable', 'Yes', 'Avg Volume', '2.62M', 'Price', '11.02', 'Recom', '4.00', 'Volume', '1,573,588', 'Change', '0.55%']\n",
      "28\n"
     ]
    }
   ],
   "source": [
    "finalKPI = []\n",
    "\n",
    "finalKPI.append(\"Date\")\n",
    "finalKPI.append(str_date_time )\n",
    "finalKPI.extend(getColumns()[8:12])\n",
    "finalKPI.extend(getColumns()[20:22])\n",
    "finalKPI.extend(getColumns()[44:46])\n",
    "finalKPI.extend(getColumns()[56:58])\n",
    "finalKPI.extend(getColumns()[116:122])\n",
    "finalKPI.extend(getColumns()[128:134])\n",
    "finalKPI.extend(getColumns()[140:146])\n",
    "\n",
    "print(finalKPI)\n",
    "print(len(finalKPI))"
   ]
  },
  {
   "cell_type": "code",
   "execution_count": 205,
   "id": "335b8473",
   "metadata": {},
   "outputs": [],
   "source": [
    "df = pd.DataFrame(columns = finalKPI[::2]) #only get every second element by slicing\n",
    "\n",
    "#Put the data in the dataframe one in a time\n",
    "length = len(df)\n",
    "df.loc[length] = columns = finalKPI[1::2]"
   ]
  },
  {
   "cell_type": "code",
   "execution_count": 206,
   "id": "c0caa772",
   "metadata": {},
   "outputs": [],
   "source": [
    "#initial insertion of the data into the csv (only run this one time - otherwise data will get deleted)\n",
    "#with open('Fiviz_KPI_Output.csv', 'w', newline='', encoding='UTF8') as f:\n",
    "#    writer = csv.writer(f)\n",
    "#    writer.writerow(df)\n",
    "#    writer.writerow(columns)"
   ]
  },
  {
   "cell_type": "code",
   "execution_count": 207,
   "id": "7c20c6bb",
   "metadata": {},
   "outputs": [
    {
     "data": {
      "text/html": [
       "<div>\n",
       "<style scoped>\n",
       "    .dataframe tbody tr th:only-of-type {\n",
       "        vertical-align: middle;\n",
       "    }\n",
       "\n",
       "    .dataframe tbody tr th {\n",
       "        vertical-align: top;\n",
       "    }\n",
       "\n",
       "    .dataframe thead th {\n",
       "        text-align: right;\n",
       "    }\n",
       "</style>\n",
       "<table border=\"1\" class=\"dataframe\">\n",
       "  <thead>\n",
       "    <tr style=\"text-align: right;\">\n",
       "      <th></th>\n",
       "      <th>Date</th>\n",
       "      <th>Shs Outstand</th>\n",
       "      <th>Perf Week</th>\n",
       "      <th>Shs Float</th>\n",
       "      <th>Short Interest</th>\n",
       "      <th>Target Price</th>\n",
       "      <th>Rel Volume</th>\n",
       "      <th>Prev Close</th>\n",
       "      <th>Shortable</th>\n",
       "      <th>Avg Volume</th>\n",
       "      <th>Price</th>\n",
       "      <th>Recom</th>\n",
       "      <th>Volume</th>\n",
       "      <th>Change</th>\n",
       "    </tr>\n",
       "  </thead>\n",
       "  <tbody>\n",
       "    <tr>\n",
       "      <th>0</th>\n",
       "      <td>06-08-2023, 12:51:28</td>\n",
       "      <td>2.08B</td>\n",
       "      <td>-0.81%</td>\n",
       "      <td>1.88B</td>\n",
       "      <td>13.29M</td>\n",
       "      <td>12.02</td>\n",
       "      <td>0.6</td>\n",
       "      <td>10.96</td>\n",
       "      <td>Yes</td>\n",
       "      <td>2.62M</td>\n",
       "      <td>11.02</td>\n",
       "      <td>4.0</td>\n",
       "      <td>1,573,588</td>\n",
       "      <td>0.55%</td>\n",
       "    </tr>\n",
       "  </tbody>\n",
       "</table>\n",
       "</div>"
      ],
      "text/plain": [
       "                   Date Shs Outstand Perf Week Shs Float Short Interest  \\\n",
       "0  06-08-2023, 12:51:28        2.08B    -0.81%     1.88B         13.29M   \n",
       "\n",
       "   Target Price  Rel Volume  Prev Close Shortable Avg Volume  Price  Recom  \\\n",
       "0         12.02         0.6       10.96       Yes      2.62M  11.02    4.0   \n",
       "\n",
       "      Volume Change  \n",
       "0  1,573,588  0.55%  "
      ]
     },
     "execution_count": 207,
     "metadata": {},
     "output_type": "execute_result"
    }
   ],
   "source": [
    "df_ = pd.read_csv(r'C:\\Users\\Elvan\\Documents\\Fiviz_KPI_Output.csv')\n",
    "\n",
    "df_"
   ]
  },
  {
   "cell_type": "code",
   "execution_count": 185,
   "id": "cffaffb8",
   "metadata": {},
   "outputs": [],
   "source": [
    "#appending data into the csv\n",
    "#with open('Fiviz_KPI_Output.csv', 'a+', newline='', encoding='UTF8') as f:\n",
    "#    writer = csv.writer(f)\n",
    "#    writer.writerow(columns)"
   ]
  }
 ],
 "metadata": {
  "kernelspec": {
   "display_name": "Python 3 (ipykernel)",
   "language": "python",
   "name": "python3"
  },
  "language_info": {
   "codemirror_mode": {
    "name": "ipython",
    "version": 3
   },
   "file_extension": ".py",
   "mimetype": "text/x-python",
   "name": "python",
   "nbconvert_exporter": "python",
   "pygments_lexer": "ipython3",
   "version": "3.9.7"
  }
 },
 "nbformat": 4,
 "nbformat_minor": 5
}
